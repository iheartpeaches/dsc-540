{
 "cells": [
  {
   "cell_type": "markdown",
   "metadata": {},
   "source": [
    "<center>Myranda Swartzwelter<br>\n",
    "    DSC-540 T301 Data Preparation<br>\n",
    "    Week 5 and 6 Assignment: Data Formats, Structures and Sources<br>\n",
    "    4/24/2022"
   ]
  },
  {
   "cell_type": "markdown",
   "metadata": {},
   "source": [
    " Data Wrangling with Python: Activity 7, page 207"
   ]
  },
  {
   "cell_type": "code",
   "execution_count": 52,
   "metadata": {},
   "outputs": [],
   "source": [
    "#import packages\n",
    "from bs4 import BeautifulSoup\n",
    "import pandas as pd"
   ]
  },
  {
   "cell_type": "code",
   "execution_count": 8,
   "metadata": {},
   "outputs": [],
   "source": [
    "#Read the page using bs4\n",
    "with open(\"List of countries by GDP (nominal) - Wikipedia.html\", \"r\") as fd:\n",
    "    soup = BeautifulSoup(fd)\n",
    "   # print((soup))"
   ]
  },
  {
   "cell_type": "code",
   "execution_count": 12,
   "metadata": {},
   "outputs": [
    {
     "name": "stdout",
     "output_type": "stream",
     "text": [
      "9\n"
     ]
    }
   ],
   "source": [
    "#Find the tables\n",
    "tables = soup.find_all(\"table\")\n",
    "print(len(tables)) #There are 9 tables"
   ]
  },
  {
   "cell_type": "code",
   "execution_count": 31,
   "metadata": {},
   "outputs": [],
   "source": [
    "#find the right table\n",
    "data_tables = soup.find(\"table\", {\"class\": '\"wikitable\"|}'})"
   ]
  },
  {
   "cell_type": "code",
   "execution_count": 32,
   "metadata": {},
   "outputs": [],
   "source": [
    "#sepearate the source name and corresponding data\n",
    "\n",
    "#separate sources\n",
    "sources = data_tables.tbody.findAll('tr', recursive=False)[0]\n",
    "#create source list\n",
    "sources_list = []\n",
    "for td in sources.findAll('td'):\n",
    "    sources_list.append(td)\n",
    "\n",
    "#get tables\n",
    "data = data_tables.tbody.findAll('tr', recursive=False)[1].findAll('td', recursive=False)\n",
    "#create list of tables\n",
    "data_tables = []\n",
    "for td in data:\n",
    "    data_tables.append(td.findAll('table'))\n"
   ]
  },
  {
   "cell_type": "code",
   "execution_count": 33,
   "metadata": {},
   "outputs": [
    {
     "name": "stdout",
     "output_type": "stream",
     "text": [
      "['International Monetary Fund', 'World Bank', 'United Nations']\n"
     ]
    }
   ],
   "source": [
    "#get source names from the list you created\n",
    "source_names = []\n",
    "for source in sources_list:\n",
    "    #find source name by parsing a tags\n",
    "    source_names.append(source.findAll('a')[0].getText())\n",
    "\n",
    "#source_names = [source.findAll('a')[0].getText() for source in sources_list]\n",
    "print(source_names)"
   ]
  },
  {
   "cell_type": "code",
   "execution_count": 34,
   "metadata": {},
   "outputs": [
    {
     "data": {
      "text/plain": [
       "['Rank', 'Country', 'GDP(US$MM)']"
      ]
     },
     "execution_count": 34,
     "metadata": {},
     "output_type": "execute_result"
    }
   ],
   "source": [
    "#separate header and data from previous steps and create dataframe\n",
    "\n",
    "\n",
    "\n",
    "header1 = [th.getText().strip() for th in data_tables[0][0].findAll('thead')[0].findAll('th')]\n",
    "header1"
   ]
  },
  {
   "cell_type": "code",
   "execution_count": 70,
   "metadata": {},
   "outputs": [
    {
     "name": "stdout",
     "output_type": "stream",
     "text": [
      "['Rank', 'Country', 'GDP(US$MM)']\n"
     ]
    }
   ],
   "source": [
    "#First get first row of first table\n",
    "table1 = data_tables[0][0]\n",
    "\n",
    "#find the headers\n",
    "headers = table1.findAll('thead')[0]\n",
    "\n",
    "#get names\n",
    "header_names = headers.findAll('th')\n",
    "\n",
    "#Need to get text out of fields and strip away row end characters\n",
    "headers = []\n",
    "for name in header_names:\n",
    "    headers.append(name.getText().strip())\n",
    "\n",
    "print(headers)"
   ]
  },
  {
   "cell_type": "code",
   "execution_count": 71,
   "metadata": {},
   "outputs": [],
   "source": [
    "#get table body\n",
    "table_body = table1.findAll('tbody')[0]\n",
    "#get rows from body excluding header\n",
    "table_rows = table_body.findAll('tr')[1:]\n",
    "\n",
    "#find the data and put it into a list\n",
    "data_rows = []\n",
    "for row in table_rows:\n",
    "     td = row.findAll('td')\n",
    "     row1 = []\n",
    "     for td in td:\n",
    "       # print(td)\n",
    "        row1.append(td.get_text().strip())\n",
    "     data_rows.append(row1)\n",
    "            \n",
    "#print(data_rows)\n"
   ]
  },
  {
   "cell_type": "code",
   "execution_count": 72,
   "metadata": {},
   "outputs": [
    {
     "data": {
      "text/html": [
       "<div>\n",
       "<style scoped>\n",
       "    .dataframe tbody tr th:only-of-type {\n",
       "        vertical-align: middle;\n",
       "    }\n",
       "\n",
       "    .dataframe tbody tr th {\n",
       "        vertical-align: top;\n",
       "    }\n",
       "\n",
       "    .dataframe thead th {\n",
       "        text-align: right;\n",
       "    }\n",
       "</style>\n",
       "<table border=\"1\" class=\"dataframe\">\n",
       "  <thead>\n",
       "    <tr style=\"text-align: right;\">\n",
       "      <th></th>\n",
       "      <th>Rank</th>\n",
       "      <th>Country</th>\n",
       "      <th>GDP(US$MM)</th>\n",
       "    </tr>\n",
       "  </thead>\n",
       "  <tbody>\n",
       "    <tr>\n",
       "      <th>0</th>\n",
       "      <td>1</td>\n",
       "      <td>United States</td>\n",
       "      <td>19,390,600</td>\n",
       "    </tr>\n",
       "    <tr>\n",
       "      <th>1</th>\n",
       "      <td>2</td>\n",
       "      <td>China[n 1]</td>\n",
       "      <td>12,014,610</td>\n",
       "    </tr>\n",
       "    <tr>\n",
       "      <th>2</th>\n",
       "      <td>3</td>\n",
       "      <td>Japan</td>\n",
       "      <td>4,872,135</td>\n",
       "    </tr>\n",
       "    <tr>\n",
       "      <th>3</th>\n",
       "      <td>4</td>\n",
       "      <td>Germany</td>\n",
       "      <td>3,684,816</td>\n",
       "    </tr>\n",
       "    <tr>\n",
       "      <th>4</th>\n",
       "      <td>5</td>\n",
       "      <td>United Kingdom</td>\n",
       "      <td>2,624,529</td>\n",
       "    </tr>\n",
       "  </tbody>\n",
       "</table>\n",
       "</div>"
      ],
      "text/plain": [
       "  Rank         Country  GDP(US$MM)\n",
       "0    1   United States  19,390,600\n",
       "1    2      China[n 1]  12,014,610\n",
       "2    3           Japan   4,872,135\n",
       "3    4         Germany   3,684,816\n",
       "4    5  United Kingdom   2,624,529"
      ]
     },
     "execution_count": 72,
     "metadata": {},
     "output_type": "execute_result"
    }
   ],
   "source": [
    "df1 = pd.DataFrame(data_rows, columns=headers)\n",
    "df1.head()"
   ]
  },
  {
   "cell_type": "code",
   "execution_count": 73,
   "metadata": {},
   "outputs": [
    {
     "name": "stdout",
     "output_type": "stream",
     "text": [
      "['Rank', 'Country', 'GDP(US$MM)']\n"
     ]
    },
    {
     "data": {
      "text/html": [
       "<div>\n",
       "<style scoped>\n",
       "    .dataframe tbody tr th:only-of-type {\n",
       "        vertical-align: middle;\n",
       "    }\n",
       "\n",
       "    .dataframe tbody tr th {\n",
       "        vertical-align: top;\n",
       "    }\n",
       "\n",
       "    .dataframe thead th {\n",
       "        text-align: right;\n",
       "    }\n",
       "</style>\n",
       "<table border=\"1\" class=\"dataframe\">\n",
       "  <thead>\n",
       "    <tr style=\"text-align: right;\">\n",
       "      <th></th>\n",
       "      <th>Rank</th>\n",
       "      <th>Country</th>\n",
       "      <th>GDP(US$MM)</th>\n",
       "    </tr>\n",
       "  </thead>\n",
       "  <tbody>\n",
       "    <tr>\n",
       "      <th>0</th>\n",
       "      <td>1</td>\n",
       "      <td>United States</td>\n",
       "      <td>19,390,604</td>\n",
       "    </tr>\n",
       "    <tr>\n",
       "      <th>1</th>\n",
       "      <td></td>\n",
       "      <td>European Union[23]</td>\n",
       "      <td>17,277,698</td>\n",
       "    </tr>\n",
       "    <tr>\n",
       "      <th>2</th>\n",
       "      <td>2</td>\n",
       "      <td>China[n 4]</td>\n",
       "      <td>12,237,700</td>\n",
       "    </tr>\n",
       "    <tr>\n",
       "      <th>3</th>\n",
       "      <td>3</td>\n",
       "      <td>Japan</td>\n",
       "      <td>4,872,137</td>\n",
       "    </tr>\n",
       "    <tr>\n",
       "      <th>4</th>\n",
       "      <td>4</td>\n",
       "      <td>Germany</td>\n",
       "      <td>3,677,439</td>\n",
       "    </tr>\n",
       "  </tbody>\n",
       "</table>\n",
       "</div>"
      ],
      "text/plain": [
       "  Rank             Country  GDP(US$MM)\n",
       "0    1       United States  19,390,604\n",
       "1       European Union[23]  17,277,698\n",
       "2    2          China[n 4]  12,237,700\n",
       "3    3               Japan   4,872,137\n",
       "4    4             Germany   3,677,439"
      ]
     },
     "execution_count": 73,
     "metadata": {},
     "output_type": "execute_result"
    }
   ],
   "source": [
    "#First get first row of first table\n",
    "table2 = data_tables[1][0]\n",
    "\n",
    "#find the headers\n",
    "headers = table2.findAll('thead')[0]\n",
    "\n",
    "#get names\n",
    "header_names = headers.findAll('th')\n",
    "\n",
    "#Need to get text out of fields and strip away row end characters\n",
    "headers = []\n",
    "for name in header_names:\n",
    "    headers.append(name.getText().strip())\n",
    "\n",
    "print(headers)\n",
    "\n",
    "#get table body\n",
    "table_body = table2.findAll('tbody')[0]\n",
    "#get rows from body excluding header\n",
    "table_rows = table_body.findAll('tr')[1:]\n",
    "\n",
    "#create function to find the correct number to put in table\n",
    "def find_right_text(i, td):\n",
    "    #for first 2 colums, no spade\n",
    "    if i == 0:\n",
    "        return td.getText().strip()\n",
    "    elif i == 1:\n",
    "        return td.getText().strip()\n",
    "    else:\n",
    "        #find spade and take secdond half of numbers\n",
    "        index = td.text.find(\"♠\")\n",
    "        return td.text[index+1:].strip()\n",
    "\n",
    "#find the data and put it into a list\n",
    "data_rows = []\n",
    "for row in table_rows:\n",
    "     td = row.findAll('td')\n",
    "     row1 = []\n",
    "     i = 0\n",
    "     for td in td:\n",
    "       # print(td)\n",
    "        row1.append(find_right_text(i, td))\n",
    "        i = i+1\n",
    "     data_rows.append(row1)\n",
    "\n",
    "#print(data_rows)\n",
    "\n",
    "df2 = pd.DataFrame(data_rows, columns=headers)\n",
    "df2.head()"
   ]
  },
  {
   "cell_type": "code",
   "execution_count": 74,
   "metadata": {},
   "outputs": [
    {
     "name": "stdout",
     "output_type": "stream",
     "text": [
      "['Rank', 'Country', 'GDP(US$MM)']\n"
     ]
    },
    {
     "data": {
      "text/html": [
       "<div>\n",
       "<style scoped>\n",
       "    .dataframe tbody tr th:only-of-type {\n",
       "        vertical-align: middle;\n",
       "    }\n",
       "\n",
       "    .dataframe tbody tr th {\n",
       "        vertical-align: top;\n",
       "    }\n",
       "\n",
       "    .dataframe thead th {\n",
       "        text-align: right;\n",
       "    }\n",
       "</style>\n",
       "<table border=\"1\" class=\"dataframe\">\n",
       "  <thead>\n",
       "    <tr style=\"text-align: right;\">\n",
       "      <th></th>\n",
       "      <th>Rank</th>\n",
       "      <th>Country</th>\n",
       "      <th>GDP(US$MM)</th>\n",
       "    </tr>\n",
       "  </thead>\n",
       "  <tbody>\n",
       "    <tr>\n",
       "      <th>0</th>\n",
       "      <td>1</td>\n",
       "      <td>United States</td>\n",
       "      <td>18,624,475</td>\n",
       "    </tr>\n",
       "    <tr>\n",
       "      <th>1</th>\n",
       "      <td>2</td>\n",
       "      <td>China[n 4]</td>\n",
       "      <td>11,218,281</td>\n",
       "    </tr>\n",
       "    <tr>\n",
       "      <th>2</th>\n",
       "      <td>3</td>\n",
       "      <td>Japan</td>\n",
       "      <td>4,936,211</td>\n",
       "    </tr>\n",
       "    <tr>\n",
       "      <th>3</th>\n",
       "      <td>4</td>\n",
       "      <td>Germany</td>\n",
       "      <td>3,477,796</td>\n",
       "    </tr>\n",
       "    <tr>\n",
       "      <th>4</th>\n",
       "      <td>5</td>\n",
       "      <td>United Kingdom</td>\n",
       "      <td>2,647,898</td>\n",
       "    </tr>\n",
       "  </tbody>\n",
       "</table>\n",
       "</div>"
      ],
      "text/plain": [
       "  Rank         Country  GDP(US$MM)\n",
       "0    1   United States  18,624,475\n",
       "1    2      China[n 4]  11,218,281\n",
       "2    3           Japan   4,936,211\n",
       "3    4         Germany   3,477,796\n",
       "4    5  United Kingdom   2,647,898"
      ]
     },
     "execution_count": 74,
     "metadata": {},
     "output_type": "execute_result"
    }
   ],
   "source": [
    "#First get first row of first table\n",
    "table3 = data_tables[2][0]\n",
    "\n",
    "#find the headers\n",
    "headers = table3.findAll('thead')[0]\n",
    "\n",
    "#get names\n",
    "header_names = headers.findAll('th')\n",
    "\n",
    "#Need to get text out of fields and strip away row end characters\n",
    "headers = []\n",
    "for name in header_names:\n",
    "    headers.append(name.getText().strip())\n",
    "\n",
    "print(headers)\n",
    "\n",
    "#get table body\n",
    "table_body = table3.findAll('tbody')[0]\n",
    "#get rows from body excluding header\n",
    "table_rows = table_body.findAll('tr')[1:]\n",
    "\n",
    "#find the data and put it into a list\n",
    "data_rows = []\n",
    "for row in table_rows:\n",
    "     td = row.findAll('td')\n",
    "     row1 = []\n",
    "     i = 0\n",
    "     for td in td:\n",
    "       # print(td)\n",
    "        row1.append(find_right_text(i, td))\n",
    "        i = i+1\n",
    "     data_rows.append(row1)\n",
    "            \n",
    "#print(data_rows)\n",
    "\n",
    "#put rows and headers into dataframe\n",
    "df3 = pd.DataFrame(data_rows, columns=headers)\n",
    "df3.head()"
   ]
  },
  {
   "cell_type": "markdown",
   "metadata": {},
   "source": [
    "Data Wrangling with Python: Activity 8, page 233"
   ]
  },
  {
   "cell_type": "code",
   "execution_count": 97,
   "metadata": {},
   "outputs": [],
   "source": [
    "#import packages\n",
    "import pandas as pd\n",
    "import numpy as np\n",
    "import matplotlib.pyplot as plt"
   ]
  },
  {
   "cell_type": "code",
   "execution_count": 77,
   "metadata": {},
   "outputs": [
    {
     "data": {
      "text/html": [
       "<div>\n",
       "<style scoped>\n",
       "    .dataframe tbody tr th:only-of-type {\n",
       "        vertical-align: middle;\n",
       "    }\n",
       "\n",
       "    .dataframe tbody tr th {\n",
       "        vertical-align: top;\n",
       "    }\n",
       "\n",
       "    .dataframe thead th {\n",
       "        text-align: right;\n",
       "    }\n",
       "</style>\n",
       "<table border=\"1\" class=\"dataframe\">\n",
       "  <thead>\n",
       "    <tr style=\"text-align: right;\">\n",
       "      <th></th>\n",
       "      <th>id</th>\n",
       "      <th>first_name</th>\n",
       "      <th>last_name</th>\n",
       "      <th>email</th>\n",
       "      <th>gender</th>\n",
       "      <th>ip_address</th>\n",
       "      <th>visit</th>\n",
       "    </tr>\n",
       "  </thead>\n",
       "  <tbody>\n",
       "    <tr>\n",
       "      <th>0</th>\n",
       "      <td>1</td>\n",
       "      <td>Sonny</td>\n",
       "      <td>Dahl</td>\n",
       "      <td>sdahl0@mysql.com</td>\n",
       "      <td>Male</td>\n",
       "      <td>135.36.96.183</td>\n",
       "      <td>1225.0</td>\n",
       "    </tr>\n",
       "    <tr>\n",
       "      <th>1</th>\n",
       "      <td>2</td>\n",
       "      <td>NaN</td>\n",
       "      <td>NaN</td>\n",
       "      <td>dhoovart1@hud.gov</td>\n",
       "      <td>NaN</td>\n",
       "      <td>237.165.194.143</td>\n",
       "      <td>919.0</td>\n",
       "    </tr>\n",
       "    <tr>\n",
       "      <th>2</th>\n",
       "      <td>3</td>\n",
       "      <td>Gar</td>\n",
       "      <td>Armal</td>\n",
       "      <td>garmal2@technorati.com</td>\n",
       "      <td>NaN</td>\n",
       "      <td>166.43.137.224</td>\n",
       "      <td>271.0</td>\n",
       "    </tr>\n",
       "    <tr>\n",
       "      <th>3</th>\n",
       "      <td>4</td>\n",
       "      <td>Chiarra</td>\n",
       "      <td>Nulty</td>\n",
       "      <td>cnulty3@newyorker.com</td>\n",
       "      <td>NaN</td>\n",
       "      <td>139.98.137.108</td>\n",
       "      <td>1002.0</td>\n",
       "    </tr>\n",
       "    <tr>\n",
       "      <th>4</th>\n",
       "      <td>5</td>\n",
       "      <td>NaN</td>\n",
       "      <td>NaN</td>\n",
       "      <td>sleaver4@elegantthemes.com</td>\n",
       "      <td>NaN</td>\n",
       "      <td>46.117.117.27</td>\n",
       "      <td>2434.0</td>\n",
       "    </tr>\n",
       "  </tbody>\n",
       "</table>\n",
       "</div>"
      ],
      "text/plain": [
       "   id first_name last_name                       email gender  \\\n",
       "0   1      Sonny      Dahl            sdahl0@mysql.com   Male   \n",
       "1   2        NaN       NaN           dhoovart1@hud.gov    NaN   \n",
       "2   3        Gar     Armal      garmal2@technorati.com    NaN   \n",
       "3   4    Chiarra     Nulty       cnulty3@newyorker.com    NaN   \n",
       "4   5        NaN       NaN  sleaver4@elegantthemes.com    NaN   \n",
       "\n",
       "        ip_address   visit  \n",
       "0    135.36.96.183  1225.0  \n",
       "1  237.165.194.143   919.0  \n",
       "2   166.43.137.224   271.0  \n",
       "3   139.98.137.108  1002.0  \n",
       "4    46.117.117.27  2434.0  "
      ]
     },
     "execution_count": 77,
     "metadata": {},
     "output_type": "execute_result"
    }
   ],
   "source": [
    "#read csv\n",
    "visit_data = pd.read_csv(\"visit_data.csv\")\n",
    "visit_data.head()"
   ]
  },
  {
   "cell_type": "code",
   "execution_count": 88,
   "metadata": {},
   "outputs": [
    {
     "name": "stdout",
     "output_type": "stream",
     "text": [
      "First name duplicates:  True\n",
      "Last name duplicates:  True\n",
      "Email duplicates:  False\n",
      "Gender duplicates:  True\n",
      "IP duplicates:  False\n",
      "Visit duplicates:  True\n"
     ]
    }
   ],
   "source": [
    "#check for duplicates\n",
    "\n",
    "#first name duplicates\n",
    "fn_dupes = visit_data.first_name.duplicated().any()\n",
    "print('First name duplicates: ', fn_dupes)\n",
    "\n",
    "#last name duplicates\n",
    "ln_dupes = any(visit_data.last_name.duplicated())\n",
    "print('Last name duplicates: ', ln_dupes)\n",
    "\n",
    "#email  duplicates\n",
    "email_dupes = any(visit_data.email.duplicated())\n",
    "print('Email duplicates: ', email_dupes)\n",
    "\n",
    "#gender  duplicates\n",
    "gender_dupes = any(visit_data.gender.duplicated())\n",
    "print('Gender duplicates: ', gender_dupes)\n",
    "\n",
    "#ip_address   duplicates\n",
    "ip_dupes = any(visit_data.ip_address.duplicated())\n",
    "print('IP duplicates: ', ip_dupes)\n",
    "\n",
    "#visit   duplicates\n",
    "visit_dupes = any(visit_data.visit.duplicated())\n",
    "print('Visit duplicates: ', visit_dupes)"
   ]
  },
  {
   "cell_type": "code",
   "execution_count": 92,
   "metadata": {},
   "outputs": [
    {
     "name": "stdout",
     "output_type": "stream",
     "text": [
      "First name Nulls:  True\n",
      "Last name Nulls:  True\n",
      "Email Nulls:  False\n",
      "Gender Nulls:  True\n",
      "IP Nulls:  False\n",
      "Visit Nulls:  True\n"
     ]
    }
   ],
   "source": [
    "#check for NaN\n",
    "\n",
    "#first name Nulls\n",
    "fn_nan = visit_data.first_name.isnull().values.any()\n",
    "print('First name Nulls: ', fn_nan)\n",
    "\n",
    "#last name Nulls\n",
    "ln_nan = visit_data.last_name.isnull().values.any()\n",
    "print('Last name Nulls: ', ln_nan)\n",
    "\n",
    "#email  Nulls\n",
    "email_nan = visit_data.email.isnull().values.any()\n",
    "print('Email Nulls: ', email_nan)\n",
    "\n",
    "#gender  Nulls\n",
    "gender_nan = visit_data.gender.isnull().values.any()\n",
    "print('Gender Nulls: ', gender_nan)\n",
    "\n",
    "#ip_address   Nulls\n",
    "ip_nan = visit_data.ip_address.isnull().values.any()\n",
    "print('IP Nulls: ', ip_nan)\n",
    "\n",
    "#visit   Nulls\n",
    "visit_nan = visit_data.visit.isnull().values.any()\n",
    "print('Visit Nulls: ', visit_nan)"
   ]
  },
  {
   "cell_type": "code",
   "execution_count": 100,
   "metadata": {},
   "outputs": [
    {
     "name": "stdout",
     "output_type": "stream",
     "text": [
      "(1000, 7)\n",
      "(974, 7)\n"
     ]
    }
   ],
   "source": [
    "#Since there are nulls in the visit field, and this is field we would create a model for, we consider these \n",
    "# outliers\n",
    "\n",
    "#Remove the outliers\n",
    "visit_data_no_outliers = visit_data[np.isfinite(visit_data['visit'])]\n"
   ]
  },
  {
   "cell_type": "code",
   "execution_count": 103,
   "metadata": {},
   "outputs": [
    {
     "name": "stdout",
     "output_type": "stream",
     "text": [
      "(1000, 7)\n",
      "(974, 7)\n",
      "The difference in size is 26\n"
     ]
    }
   ],
   "source": [
    "#Report the difference in size\n",
    "#size of original dataframe\n",
    "orig_size = visit_data.shape\n",
    "\n",
    "#size of new dataframe\n",
    "new_size = visit_data_no_outliers.shape\n",
    "\n",
    "#calculate difference\n",
    "diff = orig_size[0] - new_size[0]\n",
    "print('The difference in size is',diff)"
   ]
  }
 ],
 "metadata": {
  "kernelspec": {
   "display_name": "Python 3",
   "language": "python",
   "name": "python3"
  },
  "language_info": {
   "codemirror_mode": {
    "name": "ipython",
    "version": 3
   },
   "file_extension": ".py",
   "mimetype": "text/x-python",
   "name": "python",
   "nbconvert_exporter": "python",
   "pygments_lexer": "ipython3",
   "version": "3.8.5"
  }
 },
 "nbformat": 4,
 "nbformat_minor": 4
}
